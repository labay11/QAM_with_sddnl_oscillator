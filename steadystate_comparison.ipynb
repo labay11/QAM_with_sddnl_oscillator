{
 "cells": [
  {
   "cell_type": "code",
   "execution_count": 1,
   "id": "20190efe-914b-43f8-8407-8473a0d88374",
   "metadata": {},
   "outputs": [],
   "source": [
    "using QuantumOptics\n",
    "using NPZ\n",
    "using ArgParse\n",
    "using Pardiso\n",
    "using BenchmarkTools"
   ]
  },
  {
   "cell_type": "code",
   "execution_count": 2,
   "id": "6c7fa9b7-a0a6-439d-aba6-3207f2c03d58",
   "metadata": {},
   "outputs": [
    {
     "data": {
      "text/plain": [
       "20"
      ]
     },
     "execution_count": 2,
     "metadata": {},
     "output_type": "execute_result"
    }
   ],
   "source": [
    "η = 0.9 # Pumping strength\n",
    "κ = 1 # Decay rate\n",
    "\n",
    "Ncutoff = 20 # Maximum photon number"
   ]
  },
  {
   "cell_type": "code",
   "execution_count": 3,
   "id": "f1ea3baf-090f-4e8d-8ebf-8300c6260da5",
   "metadata": {},
   "outputs": [
    {
     "data": {
      "text/plain": [
       "SparseSuperOpType{Tuple{FockBasis{Int64}, FockBasis{Int64}}, Tuple{FockBasis{Int64}, FockBasis{Int64}}, SparseArrays.SparseMatrixCSC{ComplexF64, Int64}}((Fock(cutoff=20), Fock(cutoff=20)), (Fock(cutoff=20), Fock(cutoff=20)), \n",
       "⠻⣦⡳⣄⠀⠀⠀⠀⠀⠀⠀⠀⠀⠀⠀⠀⠀⠀⠀⠀⠀⠀⠀⠀⠀⠀⠀⠀⠀⠀⠀⠀⠀⠀⠀⠀⠀⠀⠀⠀\n",
       "⠙⢮⡻⣮⠳⣄⠀⠀⠀⠀⠀⠀⠀⠀⠀⠀⠀⠀⠀⠀⠀⠀⠀⠀⠀⠀⠀⠀⠀⠀⠀⠀⠀⠀⠀⠀⠀⠀⠀⠀\n",
       "⠀⠀⠙⢦⡻⣮⡳⣄⠀⠀⠀⠀⠀⠀⠀⠀⠀⠀⠀⠀⠀⠀⠀⠀⠀⠀⠀⠀⠀⠀⠀⠀⠀⠀⠀⠀⠀⠀⠀⠀\n",
       "⠀⠀⠀⠀⠙⢮⡻⣮⡳⣄⠀⠀⠀⠀⠀⠀⠀⠀⠀⠀⠀⠀⠀⠀⠀⠀⠀⠀⠀⠀⠀⠀⠀⠀⠀⠀⠀⠀⠀⠀\n",
       "⠀⠀⠀⠀⠀⠀⠙⢮⡻⣮⡳⣄⠀⠀⠀⠀⠀⠀⠀⠀⠀⠀⠀⠀⠀⠀⠀⠀⠀⠀⠀⠀⠀⠀⠀⠀⠀⠀⠀⠀\n",
       "⠀⠀⠀⠀⠀⠀⠀⠀⠙⢮⡻⢎⡳⣄⠀⠀⠀⠀⠀⠀⠀⠀⠀⠀⠀⠀⠀⠀⠀⠀⠀⠀⠀⠀⠀⠀⠀⠀⠀⠀\n",
       "⠀⠀⠀⠀⠀⠀⠀⠀⠀⠀⠙⢮⡻⣮⡳⣄⠀⠀⠀⠀⠀⠀⠀⠀⠀⠀⠀⠀⠀⠀⠀⠀⠀⠀⠀⠀⠀⠀⠀⠀\n",
       "⠀⠀⠀⠀⠀⠀⠀⠀⠀⠀⠀⠀⠙⢮⡻⣮⡳⣄⠀⠀⠀⠀⠀⠀⠀⠀⠀⠀⠀⠀⠀⠀⠀⠀⠀⠀⠀⠀⠀⠀\n",
       "⠀⠀⠀⠀⠀⠀⠀⠀⠀⠀⠀⠀⠀⠀⠙⢮⡻⣮⡳⣄⠀⠀⠀⠀⠀⠀⠀⠀⠀⠀⠀⠀⠀⠀⠀⠀⠀⠀⠀⠀\n",
       "⠀⠀⠀⠀⠀⠀⠀⠀⠀⠀⠀⠀⠀⠀⠀⠀⠙⢮⡻⣮⡳⣄⠀⠀⠀⠀⠀⠀⠀⠀⠀⠀⠀⠀⠀⠀⠀⠀⠀⠀\n",
       "⠀⠀⠀⠀⠀⠀⠀⠀⠀⠀⠀⠀⠀⠀⠀⠀⠀⠀⠙⢮⡻⣮⡳⣄⠀⠀⠀⠀⠀⠀⠀⠀⠀⠀⠀⠀⠀⠀⠀⠀\n",
       "⠀⠀⠀⠀⠀⠀⠀⠀⠀⠀⠀⠀⠀⠀⠀⠀⠀⠀⠀⠀⠙⢮⡻⣮⡳⣄⠀⠀⠀⠀⠀⠀⠀⠀⠀⠀⠀⠀⠀⠀\n",
       "⠀⠀⠀⠀⠀⠀⠀⠀⠀⠀⠀⠀⠀⠀⠀⠀⠀⠀⠀⠀⠀⠀⠙⢮⡻⣮⡳⣄⠀⠀⠀⠀⠀⠀⠀⠀⠀⠀⠀⠀\n",
       "⠀⠀⠀⠀⠀⠀⠀⠀⠀⠀⠀⠀⠀⠀⠀⠀⠀⠀⠀⠀⠀⠀⠀⠀⠙⢮⡻⣮⡳⣄⠀⠀⠀⠀⠀⠀⠀⠀⠀⠀\n",
       "⠀⠀⠀⠀⠀⠀⠀⠀⠀⠀⠀⠀⠀⠀⠀⠀⠀⠀⠀⠀⠀⠀⠀⠀⠀⠀⠙⢮⡱⣮⡳⣄⠀⠀⠀⠀⠀⠀⠀⠀\n",
       "⠀⠀⠀⠀⠀⠀⠀⠀⠀⠀⠀⠀⠀⠀⠀⠀⠀⠀⠀⠀⠀⠀⠀⠀⠀⠀⠀⠀⠙⢮⡻⣮⡳⣄⠀⠀⠀⠀⠀⠀\n",
       "⠀⠀⠀⠀⠀⠀⠀⠀⠀⠀⠀⠀⠀⠀⠀⠀⠀⠀⠀⠀⠀⠀⠀⠀⠀⠀⠀⠀⠀⠀⠙⢮⡻⣮⡳⣄⠀⠀⠀⠀\n",
       "⠀⠀⠀⠀⠀⠀⠀⠀⠀⠀⠀⠀⠀⠀⠀⠀⠀⠀⠀⠀⠀⠀⠀⠀⠀⠀⠀⠀⠀⠀⠀⠀⠙⢮⡻⣮⠳⣄⠀⠀\n",
       "⠀⠀⠀⠀⠀⠀⠀⠀⠀⠀⠀⠀⠀⠀⠀⠀⠀⠀⠀⠀⠀⠀⠀⠀⠀⠀⠀⠀⠀⠀⠀⠀⠀⠀⠙⢦⡻⣮⡳⣄\n",
       "⠀⠀⠀⠀⠀⠀⠀⠀⠀⠀⠀⠀⠀⠀⠀⠀⠀⠀⠀⠀⠀⠀⠀⠀⠀⠀⠀⠀⠀⠀⠀⠀⠀⠀⠀⠀⠙⢮⠻⣦)"
      ]
     },
     "execution_count": 3,
     "metadata": {},
     "output_type": "execute_result"
    }
   ],
   "source": [
    "basis = FockBasis(Ncutoff)\n",
    "a = destroy(basis)\n",
    "at = create(basis)\n",
    "n = number(basis)\n",
    "H = η*(a+at)\n",
    "J = [sqrt(κ)*a]\n",
    "L = liouvillian(H, J)"
   ]
  },
  {
   "cell_type": "code",
   "execution_count": 4,
   "id": "c35f17ff-1f2b-4687-be78-ad545d4585a0",
   "metadata": {},
   "outputs": [
    {
     "name": "stdout",
     "output_type": "stream",
     "text": [
      "  7.685 ms (1356 allocations: 4.76 MiB)\n"
     ]
    }
   ],
   "source": [
    "@btime steadystate.master(H, J);"
   ]
  },
  {
   "cell_type": "code",
   "execution_count": 5,
   "id": "586662b7-2b86-4642-afb0-b08c9a6d94e8",
   "metadata": {},
   "outputs": [
    {
     "name": "stdout",
     "output_type": "stream",
     "text": [
      "  765.192 μs (249 allocations: 1.82 MiB)\n"
     ]
    },
    {
     "data": {
      "text/plain": [
       "Operator(dim=21x21)\n",
       "  basis: Fock(cutoff=20)\n",
       "    0.0391639-1.0203e-10im   …   2.67681e-6+4.042e-13im\n",
       " -2.07726e-10-0.070495im         4.7291e-13-4.81826e-6im\n",
       "   -0.0897255+2.18256e-10im     -6.13265e-6-7.6556e-13im\n",
       "  1.40063e-10+0.0932455im       -8.3159e-13+6.37324e-6im\n",
       "    0.0839209-4.07823e-11im      5.73591e-6+7.984e-13im\n",
       "  2.38386e-11-0.067555im     …   1.0958e-12-4.61732e-6im\n",
       "   -0.0496426-3.81877e-11im     -3.39302e-6-1.30881e-12im\n",
       " -2.51812e-11+0.0337737im         -3.47e-14+2.3084e-6im\n",
       "    0.0214934+1.08964e-11im      1.46905e-6-6.2095e-13im\n",
       "  1.70712e-12-0.0128961im        3.6817e-13-8.81432e-7im\n",
       "  -0.00734056+3.27358e-12im  …   -5.0172e-7-6.7007e-13im\n",
       "  3.44179e-12+0.00398387im       -1.064e-14+2.72294e-7im\n",
       "   0.00207008-7.0076e-13im       1.41488e-7-3.6866e-13im\n",
       "   1.7364e-12-0.00103344im      -1.1283e-13-7.06349e-8im\n",
       " -0.000497155-3.09459e-12im     -3.39804e-8-1.0636e-13im\n",
       " -3.24585e-12+0.000231049im  …   -2.938e-14+1.57927e-8im\n",
       "  0.000103955+2.63277e-12im      7.10668e-9+1.681e-14im\n",
       "  1.70673e-12-4.53472e-5im         2.39e-15-3.10256e-9im\n",
       "  -1.91591e-5-8.6007e-13im      -1.31631e-9+3.118e-14im\n",
       "  -7.6022e-13+7.72799e-6im        -3.17e-15+5.43539e-10im\n",
       "   2.67681e-6+4.042e-13im    …  2.18775e-10+9.68e-15im"
      ]
     },
     "execution_count": 5,
     "metadata": {},
     "output_type": "execute_result"
    }
   ],
   "source": [
    "@btime steadystate.iterative(H, J)"
   ]
  },
  {
   "cell_type": "code",
   "execution_count": 6,
   "id": "257d489e-c259-42b2-a525-9347581598f4",
   "metadata": {},
   "outputs": [
    {
     "name": "stdout",
     "output_type": "stream",
     "text": [
      "  20.033 ms (4375 allocations: 729.16 KiB)\n"
     ]
    }
   ],
   "source": [
    "@btime steadystate.eigenvector(H, J);"
   ]
  },
  {
   "cell_type": "code",
   "execution_count": 7,
   "id": "e9edf616-5890-4591-ac4a-2a53d008f1ae",
   "metadata": {},
   "outputs": [
    {
     "data": {
      "text/plain": [
       "steadystate_mkl (generic function with 1 method)"
      ]
     },
     "execution_count": 7,
     "metadata": {},
     "output_type": "execute_result"
    }
   ],
   "source": [
    "function steadystate_mkl(L::SparseSuperOpType)\n",
    "    n, m = length(L.basis_r[1]), length(L.basis_r[2])\n",
    "\n",
    "    ps = MKLPardisoSolver()\n",
    "    b = zeros(ComplexF64, n*m)\n",
    "    \n",
    "    # unity trace condition for the linear solvers\n",
    "    w = mean(abs.(L.data))\n",
    "    b[1] = w\n",
    "    A = L.data + sparse(ones(n), 1:(n+1):n^2, fill(w, n), n*m, n*m)\n",
    "    x = solve(ps, A, b)\n",
    "    \n",
    "    data = reshape(x, n, m)\n",
    "    DenseOperator(L.basis_r[1], L.basis_r[2], data)\n",
    "end"
   ]
  },
  {
   "cell_type": "code",
   "execution_count": 8,
   "id": "7ff782c7-8715-428f-b9b9-fe07cad28713",
   "metadata": {},
   "outputs": [
    {
     "name": "stdout",
     "output_type": "stream",
     "text": [
      "  1.691 ms (54 allocations: 192.33 KiB)\n"
     ]
    },
    {
     "data": {
      "text/plain": [
       "Operator(dim=21x21)\n",
       "  basis: Fock(cutoff=20)\n",
       "    0.0391639+0.0im          …   2.67681e-6+0.0im\n",
       "          0.0-0.070495im                0.0-4.81826e-6im\n",
       "   -0.0897255+0.0im             -6.13265e-6+0.0im\n",
       "          0.0+0.0932455im               0.0+6.37324e-6im\n",
       "    0.0839209+0.0im              5.73591e-6+0.0im\n",
       "          0.0-0.067555im     …          0.0-4.61732e-6im\n",
       "   -0.0496426+0.0im             -3.39302e-6+0.0im\n",
       "          0.0+0.0337737im               0.0+2.3084e-6im\n",
       "    0.0214934+0.0im              1.46905e-6+0.0im\n",
       "          0.0-0.0128961im               0.0-8.81433e-7im\n",
       "  -0.00734056+0.0im          …   -5.0172e-7+0.0im\n",
       "          0.0+0.00398387im              0.0+2.72294e-7im\n",
       "   0.00207008+0.0im              1.41488e-7+0.0im\n",
       "          0.0-0.00103344im              0.0-7.06351e-8im\n",
       " -0.000497155+0.0im             -3.39804e-8+0.0im\n",
       "          0.0+0.000231049im  …          0.0+1.57927e-8im\n",
       "  0.000103955+0.0im              7.10671e-9+0.0im\n",
       "          0.0-4.53472e-5im              0.0-3.10253e-9im\n",
       "  -1.91591e-5+0.0im             -1.31629e-9+0.0im\n",
       "          0.0+7.72799e-6im              0.0+5.43561e-10im\n",
       "   2.67681e-6+0.0im          …  2.18779e-10+0.0im"
      ]
     },
     "execution_count": 8,
     "metadata": {},
     "output_type": "execute_result"
    }
   ],
   "source": [
    "@btime steadystate_mkl(L)"
   ]
  },
  {
   "cell_type": "code",
   "execution_count": 9,
   "id": "d151a674-a4fb-4ac3-811d-bad1ad3b4e02",
   "metadata": {},
   "outputs": [],
   "source": [
    "_, rho_m = steadystate.master(H, J)\n",
    "rho_i = steadystate.iterative(H, J)\n",
    "rho_e = steadystate.eigenvector(H, J)\n",
    "rho_d = steadystate_mkl(L);"
   ]
  },
  {
   "cell_type": "code",
   "execution_count": 10,
   "id": "a83ffe89-6573-4067-a5f3-a7b4c9714bf7",
   "metadata": {},
   "outputs": [
    {
     "data": {
      "text/plain": [
       "4×4 Matrix{Float64}:\n",
       " 0.0       0.00190903  0.00190903  0.00190903\n",
       " 0.999998  0.0         1.85442e-8  1.85442e-8\n",
       " 0.999998  1.0         0.0         9.23027e-15\n",
       " 0.999998  1.0         1.0         0.0"
      ]
     },
     "execution_count": 10,
     "metadata": {},
     "output_type": "execute_result"
    }
   ],
   "source": [
    "rhos = [rho_m[2], rho_i, rho_e, rho_d];\n",
    "\n",
    "dists = zeros(4, 4)\n",
    "\n",
    "for j = 1:4, k = 1:4\n",
    "    if j <= k\n",
    "        dists[j, k] = tracedistance(rhos[j], rhos[k])\n",
    "    else\n",
    "        dists[j, k] = real(fidelity(rhos[j], rhos[k]))\n",
    "    end\n",
    "end\n",
    "\n",
    "dists"
   ]
  },
  {
   "cell_type": "code",
   "execution_count": null,
   "id": "bf1b61b4-39c1-40fd-a753-7c0909e2fff9",
   "metadata": {},
   "outputs": [],
   "source": []
  }
 ],
 "metadata": {
  "kernelspec": {
   "display_name": "Julia 1.6.2",
   "language": "julia",
   "name": "julia-1.6"
  },
  "language_info": {
   "file_extension": ".jl",
   "mimetype": "application/julia",
   "name": "julia",
   "version": "1.6.2"
  }
 },
 "nbformat": 4,
 "nbformat_minor": 5
}
