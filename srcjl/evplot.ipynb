{
 "cells": [
  {
   "cell_type": "code",
   "execution_count": 1,
   "id": "667092e5-40ad-47a0-9e28-e952562ed377",
   "metadata": {},
   "outputs": [],
   "source": [
    "using QuantumOptics\n",
    "using NPZ\n",
    "using Arpack"
   ]
  },
  {
   "cell_type": "code",
   "execution_count": 2,
   "id": "f24efc06-3709-4389-8526-4bbe802eb706",
   "metadata": {},
   "outputs": [
    {
     "data": {
      "text/plain": [
       "L_gqvdp (generic function with 1 method)"
      ]
     },
     "execution_count": 2,
     "metadata": {},
     "output_type": "execute_result"
    }
   ],
   "source": [
    "function L_gqvdp(γ2::Float64, η::Float64, Δ::Float64, nl_eta::Int, nl_dis::Int, basis::FockBasis)\n",
    "    a = destroy(basis)\n",
    "    at = create(basis)\n",
    "    n = number(basis)\n",
    "    H = Δ * n + 1im * η * (a^nl_eta - at^nl_eta)\n",
    "    J = [a, sqrt(γ2) * a^nl_dis]\n",
    "\n",
    "    liouvillian(H, J)\n",
    "end"
   ]
  },
  {
   "cell_type": "code",
   "execution_count": 28,
   "id": "59f5487c-d18d-4dcc-9fbf-7b800fbbac86",
   "metadata": {},
   "outputs": [
    {
     "data": {
      "text/plain": [
       "0.01:0.1:0.91"
      ]
     },
     "execution_count": 28,
     "metadata": {},
     "output_type": "execute_result"
    }
   ],
   "source": [
    "etas = 0:0.5:5\n",
    "gs = 0.01:0.1:1"
   ]
  },
  {
   "cell_type": "code",
   "execution_count": 29,
   "id": "861d0e9d-94f7-4d20-bb74-e1b5cc801a78",
   "metadata": {},
   "outputs": [
    {
     "data": {
      "text/plain": [
       "amplitude (generic function with 1 method)"
      ]
     },
     "execution_count": 29,
     "metadata": {},
     "output_type": "execute_result"
    }
   ],
   "source": [
    "amplitude(γ2::Float64, η::Float64, nl_eta::Int, nl_dis::Int) = (2 * η * nl_eta / (nl_dis * γ2))^(1 / (2 * nl_dis - nl_eta))"
   ]
  },
  {
   "cell_type": "code",
   "execution_count": 30,
   "id": "ce1bde44-0deb-4ab8-bac6-ba8999a9de98",
   "metadata": {},
   "outputs": [
    {
     "data": {
      "text/plain": [
       "10"
      ]
     },
     "execution_count": 30,
     "metadata": {},
     "output_type": "execute_result"
    }
   ],
   "source": [
    "le = length(etas)\n",
    "lg = length(gs)"
   ]
  },
  {
   "cell_type": "code",
   "execution_count": 34,
   "id": "db419fb4-ed40-4edf-82ca-17b82ddf9bae",
   "metadata": {},
   "outputs": [
    {
     "name": "stdout",
     "output_type": "stream",
     "text": [
      "1\n",
      "2\n"
     ]
    },
    {
     "ename": "LoadError",
     "evalue": "BoundsError: attempt to access 3-element Vector{ComplexF64} at index [1:10]",
     "output_type": "error",
     "traceback": [
      "BoundsError: attempt to access 3-element Vector{ComplexF64} at index [1:10]",
      "",
      "Stacktrace:",
      " [1] throw_boundserror(A::Vector{ComplexF64}, I::Tuple{UnitRange{Int64}})",
      "   @ Base ./abstractarray.jl:651",
      " [2] checkbounds",
      "   @ ./abstractarray.jl:616 [inlined]",
      " [3] getindex(A::Vector{ComplexF64}, I::UnitRange{Int64})",
      "   @ Base ./array.jl:807",
      " [4] top-level scope",
      "   @ ./In[34]:8",
      " [5] eval",
      "   @ ./boot.jl:360 [inlined]",
      " [6] include_string(mapexpr::typeof(REPL.softscope), mod::Module, code::String, filename::String)",
      "   @ Base ./loading.jl:1116"
     ]
    }
   ],
   "source": [
    "EV = zeros(ComplexF64, le, lg, 10)\n",
    "for j = 1:le\n",
    "    for k = 1:lg\n",
    "        beta = amplitude(gs[k], etas[j], 4, 3)\n",
    "        basis = FockBasis(40 + min(max(0, round(Int, beta) - 1) * 10, 30))\n",
    "        L4 = L_gqvdp(gs[k], etas[j], 0.4, 4, 3, basis)\n",
    "        ev4 = eigs(L4.data, nev=40, ritzvec=false, which=:LR, tol=1e-9, check=2)[1];\n",
    "        EV[j, k, :] = ev4[1:10]\n",
    "    end\n",
    "    println(j)\n",
    "end"
   ]
  },
  {
   "cell_type": "code",
   "execution_count": 9,
   "id": "c089c121-11f6-41ce-a5d4-b7a45669ba31",
   "metadata": {},
   "outputs": [],
   "source": [
    "npzwrite(\"ev.npy\", EV)"
   ]
  },
  {
   "cell_type": "code",
   "execution_count": null,
   "id": "7eb90442-8691-46df-a331-4c0fc1090dea",
   "metadata": {},
   "outputs": [],
   "source": []
  }
 ],
 "metadata": {
  "kernelspec": {
   "display_name": "Julia 1.6.2",
   "language": "julia",
   "name": "julia-1.6"
  },
  "language_info": {
   "file_extension": ".jl",
   "mimetype": "application/julia",
   "name": "julia",
   "version": "1.6.2"
  }
 },
 "nbformat": 4,
 "nbformat_minor": 5
}
